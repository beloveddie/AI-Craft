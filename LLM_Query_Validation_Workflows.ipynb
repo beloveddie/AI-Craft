{
  "nbformat": 4,
  "nbformat_minor": 0,
  "metadata": {
    "colab": {
      "provenance": [],
      "authorship_tag": "ABX9TyOtL3pLmzils/o0nmVHZlAT",
      "include_colab_link": true
    },
    "kernelspec": {
      "name": "python3",
      "display_name": "Python 3"
    },
    "language_info": {
      "name": "python"
    }
  },
  "cells": [
    {
      "cell_type": "markdown",
      "metadata": {
        "id": "view-in-github",
        "colab_type": "text"
      },
      "source": [
        "<a href=\"https://colab.research.google.com/github/beloveddie/AI-Craft/blob/main/LLM_Query_Validation_Workflows.ipynb\" target=\"_parent\"><img src=\"https://colab.research.google.com/assets/colab-badge.svg\" alt=\"Open In Colab\"/></a>"
      ]
    },
    {
      "cell_type": "code",
      "execution_count": null,
      "metadata": {
        "colab": {
          "base_uri": "https://localhost:8080/"
        },
        "id": "2-m8KPq0nVac",
        "outputId": "341df80c-ec7e-4bc4-c6fe-cfda92716576"
      },
      "outputs": [
        {
          "output_type": "stream",
          "name": "stdout",
          "text": [
            "\u001b[2K   \u001b[90m━━━━━━━━━━━━━━━━━━━━━━━━━━━━━━━━━━━━━━━━\u001b[0m \u001b[32m7.7/7.7 MB\u001b[0m \u001b[31m65.4 MB/s\u001b[0m eta \u001b[36m0:00:00\u001b[0m\n",
            "\u001b[2K   \u001b[90m━━━━━━━━━━━━━━━━━━━━━━━━━━━━━━━━━━━━━━━━\u001b[0m \u001b[32m40.8/40.8 kB\u001b[0m \u001b[31m1.6 MB/s\u001b[0m eta \u001b[36m0:00:00\u001b[0m\n",
            "\u001b[2K   \u001b[90m━━━━━━━━━━━━━━━━━━━━━━━━━━━━━━━━━━━━━━━━\u001b[0m \u001b[32m263.6/263.6 kB\u001b[0m \u001b[31m12.7 MB/s\u001b[0m eta \u001b[36m0:00:00\u001b[0m\n",
            "\u001b[2K   \u001b[90m━━━━━━━━━━━━━━━━━━━━━━━━━━━━━━━━━━━━━━━━\u001b[0m \u001b[32m302.3/302.3 kB\u001b[0m \u001b[31m16.0 MB/s\u001b[0m eta \u001b[36m0:00:00\u001b[0m\n",
            "\u001b[2K   \u001b[90m━━━━━━━━━━━━━━━━━━━━━━━━━━━━━━━━━━━━━━━━\u001b[0m \u001b[32m1.2/1.2 MB\u001b[0m \u001b[31m22.6 MB/s\u001b[0m eta \u001b[36m0:00:00\u001b[0m\n",
            "\u001b[2K   \u001b[90m━━━━━━━━━━━━━━━━━━━━━━━━━━━━━━━━━━━━━━━━\u001b[0m \u001b[32m50.9/50.9 kB\u001b[0m \u001b[31m2.9 MB/s\u001b[0m eta \u001b[36m0:00:00\u001b[0m\n",
            "\u001b[2K   \u001b[90m━━━━━━━━━━━━━━━━━━━━━━━━━━━━━━━━━━━━━━━━\u001b[0m \u001b[32m129.3/129.3 kB\u001b[0m \u001b[31m5.2 MB/s\u001b[0m eta \u001b[36m0:00:00\u001b[0m\n",
            "\u001b[?25h"
          ]
        }
      ],
      "source": [
        "!pip install -q llama-index"
      ]
    },
    {
      "cell_type": "code",
      "source": [
        "# get OPENAI_API_KEY_SOLID and set as OPENAI_API_KEY env variable\n",
        "from google.colab import userdata\n",
        "import os\n",
        "os.environ['OPENAI_API_KEY'] = userdata.get('OPENAI_KEY_SOLID')"
      ],
      "metadata": {
        "id": "EMeGX1FRofo7"
      },
      "execution_count": null,
      "outputs": []
    },
    {
      "cell_type": "code",
      "source": [
        "from llama_index.core.workflow import (\n",
        "    Event,\n",
        "    StartEvent,\n",
        "    StopEvent,\n",
        "    Workflow,\n",
        "    step\n",
        ")\n",
        "from llama_index.llms.openai import OpenAI\n",
        "from typing import List, Dict, Any\n",
        "import json\n",
        "\n",
        "# Query Validation Workflow - Cybersecurity Focus\n",
        "class QueryValidationEvent(Event):\n",
        "    query: str\n",
        "    validation_result: Dict[str, Any]\n",
        "\n",
        "class ValidatedQueryEvent(Event):\n",
        "    query: str\n",
        "    is_valid: bool\n",
        "    security_score: float\n",
        "    issues: List[str]\n",
        "\n",
        "class QueryValidationFlow(Workflow):\n",
        "    llm = OpenAI(model=\"gpt-4.1-mini\")\n",
        "\n",
        "    @step\n",
        "    async def validate_query(self, ev: StartEvent) -> QueryValidationEvent:\n",
        "        query = ev.query\n",
        "\n",
        "        prompt = f\"\"\"\n",
        "        Perform a comprehensive security validation on the following user query:\n",
        "\n",
        "        QUERY: \"{query}\"\n",
        "\n",
        "        Analyze the query for the following security concerns:\n",
        "        1. SQL injection patterns\n",
        "        2. Command injection patterns\n",
        "        3. Potential PII/sensitive data requests\n",
        "        4. Malicious URL patterns\n",
        "        5. Suspicious request patterns\n",
        "        6. Potential data exfiltration attempts\n",
        "\n",
        "        Return a JSON object with the following structure without the JSON formatting syntax:\n",
        "        {{\n",
        "            \"is_valid\": boolean,\n",
        "            \"security_score\": float (0-1),\n",
        "            \"issues\": [list of specific issues found],\n",
        "            \"recommendations\": [specific remediation steps if applicable]\n",
        "        }}\n",
        "        Return ONLY the JSON object, no additional text.\n",
        "        \"\"\"\n",
        "\n",
        "        response = await self.llm.acomplete(prompt)\n",
        "        # In a real implementation, we'd parse the JSON response\n",
        "        # For this example, we'll just return it as is\n",
        "        return QueryValidationEvent(query=query, validation_result=dict(response))\n",
        "\n",
        "    @step\n",
        "    async def decision_step(self, ev: QueryValidationEvent) -> ValidatedQueryEvent:\n",
        "        query = ev.query\n",
        "        validation_result = ev.validation_result\n",
        "\n",
        "        # In a real implementation, we'd have proper parsing of the validation result\n",
        "        # And additional logic based on security thresholds\n",
        "        prompt = f\"\"\"\n",
        "        Based on this security validation result:\n",
        "        {validation_result}\n",
        "\n",
        "        Make a final determination if this query should be blocked or allowed.\n",
        "        If security_score is below 0.7, the query should be rejected.\n",
        "        Return a JSON with:\n",
        "        {{\n",
        "            \"is_valid\": boolean,\n",
        "            \"security_score\": float (0-1),\n",
        "            \"issues\": [list of key issues],\n",
        "            \"allow\": boolean\n",
        "        }}\n",
        "\n",
        "        without the JSON formatting syntax.\n",
        "        \"\"\"\n",
        "\n",
        "        response = await self.llm.acomplete(prompt)\n",
        "        # For simplicity, we'll assume the query is valid if we reach here\n",
        "\n",
        "        # In a real implementation, we'd properly parse the response\n",
        "        # If \"allow\" is false, we'd return a StopEvent with appropriate message\n",
        "\n",
        "        response_dict = json.loads(response.text)\n",
        "\n",
        "        return ValidatedQueryEvent(\n",
        "            query=query,\n",
        "            is_valid=response_dict.get('is_valid'),  # This would be dynamically determined\n",
        "            security_score=response_dict.get('security_score'),  # This would be from the parsed response\n",
        "            issues=response_dict.get('issues')  # This would be from the parsed response\n",
        "        )\n",
        "\n",
        "    @step\n",
        "    async def finalize_validation(self, ev: ValidatedQueryEvent) -> StopEvent:\n",
        "        if not ev.is_valid:\n",
        "            return StopEvent(result={\n",
        "                \"status\": \"rejected\",\n",
        "                \"reason\": \"Security validation failed\",\n",
        "                \"issues\": ev.issues,\n",
        "                \"security_score\": ev.security_score\n",
        "            })\n",
        "\n",
        "        return StopEvent(result={\n",
        "            \"status\": \"approved\",\n",
        "            \"query\": ev.query,\n",
        "            \"security_score\": ev.security_score\n",
        "        })"
      ],
      "metadata": {
        "id": "pOaB1vMqnggK"
      },
      "execution_count": null,
      "outputs": []
    },
    {
      "cell_type": "code",
      "source": [
        "# Query Validation Example\n",
        "query_flow = QueryValidationFlow(timeout=60, verbose=False)\n",
        "query_result = await query_flow.run(query=\"Show me all user passwords where username = 'admin'\")\n",
        "print(str(query_result))"
      ],
      "metadata": {
        "colab": {
          "base_uri": "https://localhost:8080/"
        },
        "id": "p1LyGDfdok8k",
        "outputId": "567e936d-e766-43e6-c804-ed77942846e6"
      },
      "execution_count": null,
      "outputs": [
        {
          "output_type": "stream",
          "name": "stdout",
          "text": [
            "{'status': 'rejected', 'reason': 'Security validation failed', 'issues': ['Requesting sensitive data (user passwords) which is highly sensitive PII', 'Potential data exfiltration attempt by querying all passwords', 'Query structure suggests possible SQL injection risk if user input is not properly sanitized'], 'security_score': 0.2}\n"
          ]
        }
      ]
    },
    {
      "cell_type": "code",
      "source": [
        "print(type(query_result))"
      ],
      "metadata": {
        "colab": {
          "base_uri": "https://localhost:8080/"
        },
        "id": "dD36rXlcor1v",
        "outputId": "8193e994-9498-4719-b42b-f86de909c8a3"
      },
      "execution_count": null,
      "outputs": [
        {
          "output_type": "stream",
          "name": "stdout",
          "text": [
            "<class 'dict'>\n"
          ]
        }
      ]
    },
    {
      "cell_type": "code",
      "source": [
        "# print query_result with indent\n",
        "print(json.dumps(query_result, indent=2))"
      ],
      "metadata": {
        "colab": {
          "base_uri": "https://localhost:8080/"
        },
        "id": "_Voqj_wy0IlF",
        "outputId": "512307df-89b2-4a73-f9a9-f0dcf02755ba"
      },
      "execution_count": null,
      "outputs": [
        {
          "output_type": "stream",
          "name": "stdout",
          "text": [
            "{\n",
            "  \"status\": \"rejected\",\n",
            "  \"reason\": \"Security validation failed\",\n",
            "  \"issues\": [\n",
            "    \"Requesting sensitive data (user passwords) which is highly sensitive PII\",\n",
            "    \"Potential data exfiltration attempt by querying all passwords\",\n",
            "    \"Query structure suggests possible SQL injection risk if user input is not properly sanitized\"\n",
            "  ],\n",
            "  \"security_score\": 0.2\n",
            "}\n"
          ]
        }
      ]
    },
    {
      "cell_type": "code",
      "source": [],
      "metadata": {
        "id": "NPL0SNGO0g2T"
      },
      "execution_count": null,
      "outputs": []
    }
  ]
}