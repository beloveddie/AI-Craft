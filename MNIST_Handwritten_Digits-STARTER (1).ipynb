{
 "cells": [
  {
   "cell_type": "markdown",
   "metadata": {},
   "source": [
    "# Introduction\n",
    "\n",
    "In this project, you will build a neural network of your own design to evaluate the MNIST dataset.\n",
    "\n",
    "Some of the benchmark results on MNIST include can be found [on Yann LeCun's page](https://webcache.googleusercontent.com/search?q=cache:stAVPik6onEJ:yann.lecun.com/exdb/mnist) and include:\n",
    "\n",
    "88% [Lecun et al., 1998](https://hal.science/hal-03926082/document)\n",
    "\n",
    "95.3% [Lecun et al., 1998](https://hal.science/hal-03926082v1/document)\n",
    "\n",
    "99.65% [Ciresan et al., 2011](http://people.idsia.ch/~juergen/ijcai2011.pdf)\n",
    "\n",
    "\n",
    "MNIST is a great dataset for sanity checking your models, since the accuracy levels achieved by large convolutional neural networks and small linear models are both quite high. This makes it important to be familiar with the data.\n",
    "\n",
    "## Installation"
   ]
  },
  {
   "cell_type": "code",
   "execution_count": 1,
   "metadata": {},
   "outputs": [
    {
     "name": "stdout",
     "output_type": "stream",
     "text": [
      "Defaulting to user installation because normal site-packages is not writeable\n",
      "Collecting ipywidgets==8.1.5\n",
      "  Downloading ipywidgets-8.1.5-py3-none-any.whl (139 kB)\n",
      "\u001b[K     |████████████████████████████████| 139 kB 2.8 MB/s eta 0:00:01\n",
      "\u001b[?25hRequirement already satisfied: traitlets>=4.3.1 in /opt/conda/lib/python3.7/site-packages (from ipywidgets==8.1.5->-r requirements.txt (line 1)) (4.3.3)\n",
      "Collecting comm>=0.1.3\n",
      "  Downloading comm-0.1.4-py3-none-any.whl (6.6 kB)\n",
      "Requirement already satisfied: ipython>=6.1.0 in /opt/conda/lib/python3.7/site-packages (from ipywidgets==8.1.5->-r requirements.txt (line 1)) (7.13.0)\n",
      "Collecting jupyterlab-widgets~=3.0.12\n",
      "  Downloading jupyterlab_widgets-3.0.15-py3-none-any.whl (216 kB)\n",
      "\u001b[K     |████████████████████████████████| 216 kB 28.1 MB/s eta 0:00:01\n",
      "\u001b[?25hCollecting widgetsnbextension~=4.0.12\n",
      "  Downloading widgetsnbextension-4.0.14-py3-none-any.whl (2.2 MB)\n",
      "\u001b[K     |████████████████████████████████| 2.2 MB 81.4 MB/s eta 0:00:01\n",
      "\u001b[?25hRequirement already satisfied: decorator in /opt/conda/lib/python3.7/site-packages (from traitlets>=4.3.1->ipywidgets==8.1.5->-r requirements.txt (line 1)) (4.4.2)\n",
      "Requirement already satisfied: six in /opt/conda/lib/python3.7/site-packages (from traitlets>=4.3.1->ipywidgets==8.1.5->-r requirements.txt (line 1)) (1.16.0)\n",
      "Requirement already satisfied: ipython-genutils in /opt/conda/lib/python3.7/site-packages (from traitlets>=4.3.1->ipywidgets==8.1.5->-r requirements.txt (line 1)) (0.2.0)\n",
      "Requirement already satisfied: jedi>=0.10 in /opt/conda/lib/python3.7/site-packages (from ipython>=6.1.0->ipywidgets==8.1.5->-r requirements.txt (line 1)) (0.16.0)\n",
      "Requirement already satisfied: pygments in /opt/conda/lib/python3.7/site-packages (from ipython>=6.1.0->ipywidgets==8.1.5->-r requirements.txt (line 1)) (2.5.2)\n",
      "Requirement already satisfied: prompt-toolkit!=3.0.0,!=3.0.1,<3.1.0,>=2.0.0 in /opt/conda/lib/python3.7/site-packages (from ipython>=6.1.0->ipywidgets==8.1.5->-r requirements.txt (line 1)) (3.0.3)\n",
      "Requirement already satisfied: setuptools>=18.5 in /opt/conda/lib/python3.7/site-packages (from ipython>=6.1.0->ipywidgets==8.1.5->-r requirements.txt (line 1)) (45.2.0.post20200209)\n",
      "Requirement already satisfied: pickleshare in /opt/conda/lib/python3.7/site-packages (from ipython>=6.1.0->ipywidgets==8.1.5->-r requirements.txt (line 1)) (0.7.5)\n",
      "Requirement already satisfied: backcall in /opt/conda/lib/python3.7/site-packages (from ipython>=6.1.0->ipywidgets==8.1.5->-r requirements.txt (line 1)) (0.1.0)\n",
      "Requirement already satisfied: pexpect; sys_platform != \"win32\" in /opt/conda/lib/python3.7/site-packages (from ipython>=6.1.0->ipywidgets==8.1.5->-r requirements.txt (line 1)) (4.8.0)\n",
      "Requirement already satisfied: parso>=0.5.2 in /opt/conda/lib/python3.7/site-packages (from jedi>=0.10->ipython>=6.1.0->ipywidgets==8.1.5->-r requirements.txt (line 1)) (0.6.1)\n",
      "Requirement already satisfied: wcwidth in /opt/conda/lib/python3.7/site-packages (from prompt-toolkit!=3.0.0,!=3.0.1,<3.1.0,>=2.0.0->ipython>=6.1.0->ipywidgets==8.1.5->-r requirements.txt (line 1)) (0.1.8)\n",
      "Requirement already satisfied: ptyprocess>=0.5 in /opt/conda/lib/python3.7/site-packages (from pexpect; sys_platform != \"win32\"->ipython>=6.1.0->ipywidgets==8.1.5->-r requirements.txt (line 1)) (0.6.0)\n",
      "Installing collected packages: comm, jupyterlab-widgets, widgetsnbextension, ipywidgets\n",
      "Successfully installed comm-0.1.4 ipywidgets-8.1.5 jupyterlab-widgets-3.0.15 widgetsnbextension-4.0.14\n"
     ]
    }
   ],
   "source": [
    "# Restart the Kernel after you execute this command.\n",
    "\n",
    "!python -m pip install -r requirements.txt"
   ]
  },
  {
   "cell_type": "markdown",
   "metadata": {},
   "source": [
    "**Important: Restart the Kernel at this moment**"
   ]
  },
  {
   "cell_type": "markdown",
   "metadata": {},
   "source": [
    "## Imports"
   ]
  },
  {
   "cell_type": "code",
   "execution_count": 1,
   "metadata": {},
   "outputs": [],
   "source": [
    "## This cell contains the essential imports you will need – DO NOT CHANGE THE CONTENTS! ##\n",
    "import torch\n",
    "import torch.nn as nn\n",
    "import torch.nn.functional as F\n",
    "import torch.optim as optim\n",
    "import torchvision\n",
    "import torchvision.transforms as transforms\n",
    "import matplotlib.pyplot as plt\n",
    "import numpy as np"
   ]
  },
  {
   "cell_type": "code",
   "execution_count": 6,
   "metadata": {},
   "outputs": [],
   "source": [
    "!pip install -q IProgress tqdm"
   ]
  },
  {
   "cell_type": "code",
   "execution_count": 8,
   "metadata": {},
   "outputs": [
    {
     "name": "stdout",
     "output_type": "stream",
     "text": [
      "Enabling notebook extension jupyter-js-widgets/extension...\r\n",
      "      - Validating: \u001b[32mOK\u001b[0m\r\n"
     ]
    }
   ],
   "source": [
    "!pip install -q ipywidgets==7.6.3\n",
    "!jupyter nbextension enable --py widgetsnbextension"
   ]
  },
  {
   "cell_type": "markdown",
   "metadata": {},
   "source": [
    "## Load the Dataset\n",
    "\n",
    "Specify your transforms as a list if you intend to .\n",
    "The transforms module is already loaded as `transforms`.\n",
    "\n",
    "MNIST is fortunately included in the torchvision module.\n",
    "Then, you can create your dataset using the `MNIST` object from `torchvision.datasets` ([the documentation is available here](https://pytorch.org/vision/stable/datasets.html#mnist)).\n",
    "Make sure to specify `download=True`! \n",
    "\n",
    "Once your dataset is created, you'll also need to define a `DataLoader` from the `torch.utils.data` module for both the train and the test set."
   ]
  },
  {
   "cell_type": "code",
   "execution_count": 2,
   "metadata": {},
   "outputs": [
    {
     "name": "stdout",
     "output_type": "stream",
     "text": [
      "Downloading http://yann.lecun.com/exdb/mnist/train-images-idx3-ubyte.gz\n",
      "Failed to download (trying next):\n",
      "HTTP Error 404: Not Found\n",
      "\n",
      "Downloading https://ossci-datasets.s3.amazonaws.com/mnist/train-images-idx3-ubyte.gz\n",
      "Downloading https://ossci-datasets.s3.amazonaws.com/mnist/train-images-idx3-ubyte.gz to ./data/MNIST/raw/train-images-idx3-ubyte.gz\n"
     ]
    },
    {
     "data": {
      "application/vnd.jupyter.widget-view+json": {
       "model_id": "badb993c73b745c0bb24e97685ceb317",
       "version_major": 2,
       "version_minor": 0
      },
      "text/plain": [
       "HBox(children=(FloatProgress(value=0.0, max=9912422.0), HTML(value='')))"
      ]
     },
     "metadata": {},
     "output_type": "display_data"
    },
    {
     "name": "stdout",
     "output_type": "stream",
     "text": [
      "\n",
      "Extracting ./data/MNIST/raw/train-images-idx3-ubyte.gz to ./data/MNIST/raw\n",
      "\n",
      "Downloading http://yann.lecun.com/exdb/mnist/train-labels-idx1-ubyte.gz\n",
      "Failed to download (trying next):\n",
      "HTTP Error 404: Not Found\n",
      "\n",
      "Downloading https://ossci-datasets.s3.amazonaws.com/mnist/train-labels-idx1-ubyte.gz\n",
      "Downloading https://ossci-datasets.s3.amazonaws.com/mnist/train-labels-idx1-ubyte.gz to ./data/MNIST/raw/train-labels-idx1-ubyte.gz\n"
     ]
    },
    {
     "data": {
      "application/vnd.jupyter.widget-view+json": {
       "model_id": "1670db7f8efa4cbb9ab6518df14d5891",
       "version_major": 2,
       "version_minor": 0
      },
      "text/plain": [
       "HBox(children=(FloatProgress(value=0.0, max=28881.0), HTML(value='')))"
      ]
     },
     "metadata": {},
     "output_type": "display_data"
    },
    {
     "name": "stdout",
     "output_type": "stream",
     "text": [
      "\n",
      "Extracting ./data/MNIST/raw/train-labels-idx1-ubyte.gz to ./data/MNIST/raw\n",
      "\n",
      "Downloading http://yann.lecun.com/exdb/mnist/t10k-images-idx3-ubyte.gz\n",
      "Failed to download (trying next):\n",
      "HTTP Error 404: Not Found\n",
      "\n",
      "Downloading https://ossci-datasets.s3.amazonaws.com/mnist/t10k-images-idx3-ubyte.gz\n",
      "Downloading https://ossci-datasets.s3.amazonaws.com/mnist/t10k-images-idx3-ubyte.gz to ./data/MNIST/raw/t10k-images-idx3-ubyte.gz\n"
     ]
    },
    {
     "data": {
      "application/vnd.jupyter.widget-view+json": {
       "model_id": "e20eb19599a64889acd77c189a35beb8",
       "version_major": 2,
       "version_minor": 0
      },
      "text/plain": [
       "HBox(children=(FloatProgress(value=0.0, max=1648877.0), HTML(value='')))"
      ]
     },
     "metadata": {},
     "output_type": "display_data"
    },
    {
     "name": "stdout",
     "output_type": "stream",
     "text": [
      "\n",
      "Extracting ./data/MNIST/raw/t10k-images-idx3-ubyte.gz to ./data/MNIST/raw\n",
      "\n",
      "Downloading http://yann.lecun.com/exdb/mnist/t10k-labels-idx1-ubyte.gz\n",
      "Failed to download (trying next):\n",
      "HTTP Error 404: Not Found\n",
      "\n",
      "Downloading https://ossci-datasets.s3.amazonaws.com/mnist/t10k-labels-idx1-ubyte.gz\n",
      "Downloading https://ossci-datasets.s3.amazonaws.com/mnist/t10k-labels-idx1-ubyte.gz to ./data/MNIST/raw/t10k-labels-idx1-ubyte.gz\n"
     ]
    },
    {
     "data": {
      "application/vnd.jupyter.widget-view+json": {
       "model_id": "3a521a87bc374746ab010de58e7fd176",
       "version_major": 2,
       "version_minor": 0
      },
      "text/plain": [
       "HBox(children=(FloatProgress(value=0.0, max=4542.0), HTML(value='')))"
      ]
     },
     "metadata": {},
     "output_type": "display_data"
    },
    {
     "name": "stdout",
     "output_type": "stream",
     "text": [
      "\n",
      "Extracting ./data/MNIST/raw/t10k-labels-idx1-ubyte.gz to ./data/MNIST/raw\n",
      "\n"
     ]
    },
    {
     "name": "stderr",
     "output_type": "stream",
     "text": [
      "/opt/conda/lib/python3.7/site-packages/torchvision/datasets/mnist.py:498: UserWarning: The given NumPy array is not writable, and PyTorch does not support non-writable tensors. This means writing to this tensor will result in undefined behavior. You may want to copy the array to protect its data or make it writable before converting it to a tensor. This type of warning will be suppressed for the rest of this program. (Triggered internally at  ../torch/csrc/utils/tensor_numpy.cpp:178.)\n",
      "  return torch.from_numpy(parsed.astype(m[2], copy=False)).view(*s)\n"
     ]
    }
   ],
   "source": [
    "# Define transforms\n",
    "transform = transforms.Compose([\n",
    "    transforms.ToTensor(),\n",
    "    transforms.Normalize((0.1307,), (0.3081,))  # MNIST mean and std\n",
    "])\n",
    "\n",
    "# Create training set and define training dataloader\n",
    "train_dataset = torchvision.datasets.MNIST(\n",
    "    root='./data', \n",
    "    train=True, \n",
    "    download=True, \n",
    "    transform=transform\n",
    ")\n",
    "train_loader = torch.utils.data.DataLoader(\n",
    "    train_dataset, \n",
    "    batch_size=64, \n",
    "    shuffle=True\n",
    ")\n",
    "\n",
    "# Create test set and define test dataloader\n",
    "test_dataset = torchvision.datasets.MNIST(\n",
    "    root='./data', \n",
    "    train=False, \n",
    "    download=True, \n",
    "    transform=transform\n",
    ")\n",
    "test_loader = torch.utils.data.DataLoader(\n",
    "    test_dataset, \n",
    "    batch_size=1000, \n",
    "    shuffle=False\n",
    ")"
   ]
  },
  {
   "cell_type": "markdown",
   "metadata": {},
   "source": [
    "## Justify your preprocessing\n",
    "\n",
    "In your own words, why did you choose the transforms you chose? If you didn't use any preprocessing steps, why not?"
   ]
  },
  {
   "cell_type": "markdown",
   "metadata": {},
   "source": [
    "I chose these transforms for the following reasons:\n",
    "\n",
    "1. **ToTensor()**: Converts the PIL image to a PyTorch tensor and scales the pixel values from [0, 255] to [0, 1].\n",
    "\n",
    "2. **Normalize((0.1307,), (0.3081,))**: These values represent the mean and standard deviation of the MNIST dataset. Normalizing the data helps the network converge faster during training by centering the data around zero with a standard deviation of 1. This is a standard practice that makes the optimization process more stable and efficient.\n",
    "\n",
    "Normalization is particularly important for neural networks as it helps prevent issues like vanishing/exploding gradients and ensures all features contribute equally to the learning process."
   ]
  },
  {
   "cell_type": "markdown",
   "metadata": {},
   "source": [
    "## Explore the Dataset\n",
    "Using matplotlib, numpy, and torch, explore the dimensions of your data.\n",
    "\n",
    "You can view images using the `show5` function defined below – it takes a data loader as an argument.\n",
    "Remember that normalized images will look really weird to you! You may want to try changing your transforms to view images.\n",
    "Typically using no transforms other than `toTensor()` works well for viewing – but not as well for training your network.\n",
    "If `show5` doesn't work, go back and check your code for creating your data loaders and your training/test sets."
   ]
  },
  {
   "cell_type": "code",
   "execution_count": 3,
   "metadata": {},
   "outputs": [],
   "source": [
    "## This cell contains a function for showing 5 images from a dataloader – DO NOT CHANGE THE CONTENTS! ##\n",
    "def show5(img_loader):\n",
    "    dataiter = iter(img_loader)\n",
    "    \n",
    "    batch = next(dataiter)\n",
    "    labels = batch[1][0:5]\n",
    "    images = batch[0][0:5]\n",
    "    for i in range(5):\n",
    "        print(int(labels[i].detach()))\n",
    "    \n",
    "        image = images[i].numpy()\n",
    "        plt.imshow(image.T.squeeze().T)\n",
    "        plt.show()"
   ]
  },
  {
   "cell_type": "code",
   "execution_count": 4,
   "metadata": {},
   "outputs": [
    {
     "name": "stdout",
     "output_type": "stream",
     "text": [
      "Training dataset size: 60000\n",
      "Test dataset size: 10000\n",
      "Image shape: torch.Size([1, 28, 28])\n",
      "Target class: 5\n"
     ]
    },
    {
     "data": {
      "image/png": "[encoded data removed]",
      "text/plain": [
       "<Figure size 720x360 with 1 Axes>"
      ]
     },
     "metadata": {
      "needs_background": "light"
     },
     "output_type": "display_data"
    },
    {
     "name": "stdout",
     "output_type": "stream",
     "text": [
      "6\n"
     ]
    },
    {
     "data": {
      "image/png": "[encoded data removed]",
      "text/plain": [
       "<Figure size 432x288 with 1 Axes>"
      ]
     },
     "metadata": {
      "needs_background": "light"
     },
     "output_type": "display_data"
    },
    {
     "name": "stdout",
     "output_type": "stream",
     "text": [
      "9\n"
     ]
    },
    {
     "data": {
      "image/png": "[encoded data removed]",
      "text/plain": [
       "<Figure size 432x288 with 1 Axes>"
      ]
     },
     "metadata": {
      "needs_background": "light"
     },
     "output_type": "display_data"
    },
    {
     "name": "stdout",
     "output_type": "stream",
     "text": [
      "8\n"
     ]
    },
    {
     "data": {
      "image/png": "[encoded data removed]",
      "text/plain": [
       "<Figure size 432x288 with 1 Axes>"
      ]
     },
     "metadata": {
      "needs_background": "light"
     },
     "output_type": "display_data"
    },
    {
     "name": "stdout",
     "output_type": "stream",
     "text": [
      "1\n"
     ]
    },
    {
     "data": {
      "image/png": "[encoded data removed]",
      "text/plain": [
       "<Figure size 432x288 with 1 Axes>"
      ]
     },
     "metadata": {
      "needs_background": "light"
     },
     "output_type": "display_data"
    },
    {
     "name": "stdout",
     "output_type": "stream",
     "text": [
      "8\n"
     ]
    },
    {
     "data": {
      "image/png": "[encoded data removed]",
      "text/plain": [
       "<Figure size 432x288 with 1 Axes>"
      ]
     },
     "metadata": {
      "needs_background": "light"
     },
     "output_type": "display_data"
    }
   ],
   "source": [
    "# Explore data\n",
    "# Explore data\n",
    "print(f\"Training dataset size: {len(train_dataset)}\")\n",
    "print(f\"Test dataset size: {len(test_dataset)}\")\n",
    "\n",
    "# Check the shape of a single image\n",
    "data_sample, target_sample = train_dataset[0]\n",
    "print(f\"Image shape: {data_sample.shape}\")\n",
    "print(f\"Target class: {target_sample}\")\n",
    "\n",
    "# Class distribution in training set\n",
    "class_counts = [0] * 10\n",
    "for _, label in train_dataset:\n",
    "    class_counts[label] += 1\n",
    "    \n",
    "plt.figure(figsize=(10, 5))\n",
    "plt.bar(range(10), class_counts)\n",
    "plt.xlabel('Digit')\n",
    "plt.ylabel('Count')\n",
    "plt.title('Class Distribution in Training Set')\n",
    "plt.xticks(range(10))\n",
    "plt.show()\n",
    "\n",
    "# Show 5 sample images\n",
    "# Create a dataloader with no normalization for better visualization\n",
    "transform_viz = transforms.Compose([transforms.ToTensor()])\n",
    "viz_dataset = torchvision.datasets.MNIST(root='./data', train=True, download=True, transform=transform_viz)\n",
    "viz_loader = torch.utils.data.DataLoader(viz_dataset, batch_size=64, shuffle=True)\n",
    "\n",
    "show5(viz_loader)"
   ]
  },
  {
   "cell_type": "markdown",
   "metadata": {},
   "source": [
    "## Build your Neural Network\n",
    "Using the layers in `torch.nn` (which has been imported as `nn`) and the `torch.nn.functional` module (imported as `F`), construct a neural network based on the parameters of the dataset.\n",
    "Use any architecture you like. \n",
    "\n",
    "*Note*: If you did not flatten your tensors in your transforms or as part of your preprocessing and you are using only `Linear` layers, make sure to use the `Flatten` layer in your network!"
   ]
  },
  {
   "cell_type": "code",
   "execution_count": 14,
   "metadata": {},
   "outputs": [],
   "source": [
    "class MNISTNet(nn.Module):\n",
    "    def __init__(self):\n",
    "        super(MNISTNet, self).__init__()\n",
    "        # First convolutional layer\n",
    "        self.conv1 = nn.Conv2d(1, 32, kernel_size=3, stride=1, padding=1)\n",
    "        self.bn1 = nn.BatchNorm2d(32)\n",
    "        # Second convolutional layer\n",
    "        self.conv2 = nn.Conv2d(32, 64, kernel_size=3, stride=1, padding=1)\n",
    "        self.bn2 = nn.BatchNorm2d(64)\n",
    "        # Max pooling layer\n",
    "        self.pool = nn.MaxPool2d(kernel_size=2)\n",
    "        # Dropout for regularization\n",
    "        self.dropout1 = nn.Dropout2d(0.25)\n",
    "        self.dropout2 = nn.Dropout2d(0.5)\n",
    "        \n",
    "        # For MNIST (28x28 images), after one pooling layer (28/2 = 14x14)\n",
    "        # The feature map size will be 64 x 14 x 14 = 12544\n",
    "        self.fc1 = nn.Linear(64 * 14 * 14, 128)\n",
    "        self.fc2 = nn.Linear(128, 10)\n",
    "\n",
    "    def forward(self, x):\n",
    "        # First block\n",
    "        x = self.conv1(x)\n",
    "        x = self.bn1(x)\n",
    "        x = F.relu(x)\n",
    "        \n",
    "        # Second block\n",
    "        x = self.conv2(x)\n",
    "        x = self.bn2(x)\n",
    "        x = F.relu(x)\n",
    "        x = self.pool(x)\n",
    "        x = self.dropout1(x)\n",
    "        \n",
    "        # Flatten for fully connected layers\n",
    "        x = x.view(x.size(0), -1)\n",
    "        \n",
    "        # Fully connected part\n",
    "        x = self.fc1(x)\n",
    "        x = F.relu(x)\n",
    "        x = self.dropout2(x)\n",
    "        x = self.fc2(x)\n",
    "        \n",
    "        # Output with log_softmax for NLLLoss\n",
    "        return F.log_softmax(x, dim=1)"
   ]
  },
  {
   "cell_type": "markdown",
   "metadata": {},
   "source": [
    "Specify a loss function and an optimizer, and instantiate the model.\n",
    "\n",
    "If you use a less common loss function, please note why you chose that loss function in a comment."
   ]
  },
  {
   "cell_type": "code",
   "execution_count": 15,
   "metadata": {},
   "outputs": [
    {
     "name": "stdout",
     "output_type": "stream",
     "text": [
      "Using device: cuda\n"
     ]
    }
   ],
   "source": [
    "# Instantiate the model\n",
    "model = MNISTNet()\n",
    "\n",
    "# Check if CUDA is available and set the device accordingly\n",
    "device = torch.device(\"cuda\" if torch.cuda.is_available() else \"cpu\")\n",
    "print(f\"Using device: {device}\")\n",
    "model = model.to(device)\n",
    "\n",
    "# Define loss function and optimizer\n",
    "criterion = nn.NLLLoss()  # Negative log likelihood loss works well with log_softmax\n",
    "optimizer = optim.Adam(model.parameters(), lr=0.001)"
   ]
  },
  {
   "cell_type": "markdown",
   "metadata": {},
   "source": [
    "## Running your Neural Network\n",
    "Use whatever method you like to train your neural network, and ensure you record the average loss at each epoch. \n",
    "Don't forget to use `torch.device()` and the `.to()` method for both your model and your data if you are using GPU!\n",
    "\n",
    "If you want to print your loss **during** each epoch, you can use the `enumerate` function and print the loss after a set number of batches. 250 batches works well for most people!"
   ]
  },
  {
   "cell_type": "code",
   "execution_count": 16,
   "metadata": {},
   "outputs": [
    {
     "name": "stderr",
     "output_type": "stream",
     "text": [
      "/opt/conda/lib/python3.7/site-packages/torch/nn/functional.py:1320: UserWarning: dropout2d: Received a 2-D input to dropout2d, which is deprecated and will result in an error in a future release. To retain the behavior and silence this warning, please use dropout instead. Note that dropout2d exists to provide channel-wise dropout on inputs with 2 spatial dimensions, a channel dimension, and an optional batch dimension (i.e. 3D or 4D inputs).\n",
      "  warnings.warn(warn_msg)\n"
     ]
    },
    {
     "name": "stdout",
     "output_type": "stream",
     "text": [
      "Epoch: 1/10, Batch: 100/938, Loss: 1.5498\n",
      "Epoch: 1/10, Batch: 200/938, Loss: 1.3005\n",
      "Epoch: 1/10, Batch: 300/938, Loss: 1.2372\n",
      "Epoch: 1/10, Batch: 400/938, Loss: 1.2329\n",
      "Epoch: 1/10, Batch: 500/938, Loss: 1.2177\n",
      "Epoch: 1/10, Batch: 600/938, Loss: 1.2087\n",
      "Epoch: 1/10, Batch: 700/938, Loss: 1.2427\n",
      "Epoch: 1/10, Batch: 800/938, Loss: 1.2036\n",
      "Epoch: 1/10, Batch: 900/938, Loss: 1.2131\n",
      "Epoch: 1/10\n",
      "Training Loss: 0.1199\n",
      "Test Loss: 0.1142\n",
      "Test Accuracy: 97.64%\n",
      "----------------------------------------\n",
      "Epoch: 2/10, Batch: 100/938, Loss: 1.2263\n",
      "Epoch: 2/10, Batch: 200/938, Loss: 1.1925\n",
      "Epoch: 2/10, Batch: 300/938, Loss: 1.1916\n",
      "Epoch: 2/10, Batch: 400/938, Loss: 1.1845\n",
      "Epoch: 2/10, Batch: 500/938, Loss: 1.1899\n",
      "Epoch: 2/10, Batch: 600/938, Loss: 1.1762\n",
      "Epoch: 2/10, Batch: 700/938, Loss: 1.1848\n",
      "Epoch: 2/10, Batch: 800/938, Loss: 1.1782\n",
      "Epoch: 2/10, Batch: 900/938, Loss: 1.2104\n",
      "Epoch: 2/10\n",
      "Training Loss: 0.0976\n",
      "Test Loss: 0.0974\n",
      "Test Accuracy: 98.30%\n",
      "----------------------------------------\n",
      "Epoch: 3/10, Batch: 100/938, Loss: 1.1974\n",
      "Epoch: 3/10, Batch: 200/938, Loss: 1.1813\n",
      "Epoch: 3/10, Batch: 300/938, Loss: 1.2086\n",
      "Epoch: 3/10, Batch: 400/938, Loss: 1.1809\n",
      "Epoch: 3/10, Batch: 500/938, Loss: 1.1814\n",
      "Epoch: 3/10, Batch: 600/938, Loss: 1.1761\n",
      "Epoch: 3/10, Batch: 700/938, Loss: 1.1874\n",
      "Epoch: 3/10, Batch: 800/938, Loss: 1.1877\n",
      "Epoch: 3/10, Batch: 900/938, Loss: 1.1873\n",
      "Epoch: 3/10\n",
      "Training Loss: 0.0843\n",
      "Test Loss: 0.0913\n",
      "Test Accuracy: 98.24%\n",
      "----------------------------------------\n",
      "Epoch: 4/10, Batch: 100/938, Loss: 1.1777\n",
      "Epoch: 4/10, Batch: 200/938, Loss: 1.1823\n",
      "Epoch: 4/10, Batch: 300/938, Loss: 1.1904\n",
      "Epoch: 4/10, Batch: 400/938, Loss: 1.1533\n",
      "Epoch: 4/10, Batch: 500/938, Loss: 1.2112\n",
      "Epoch: 4/10, Batch: 600/938, Loss: 1.1712\n",
      "Epoch: 4/10, Batch: 700/938, Loss: 1.1685\n",
      "Epoch: 4/10, Batch: 800/938, Loss: 1.1786\n",
      "Epoch: 4/10, Batch: 900/938, Loss: 1.1788\n",
      "Epoch: 4/10\n",
      "Training Loss: 0.0692\n",
      "Test Loss: 0.0766\n",
      "Test Accuracy: 98.21%\n",
      "----------------------------------------\n",
      "Epoch: 5/10, Batch: 100/938, Loss: 1.1530\n",
      "Epoch: 5/10, Batch: 200/938, Loss: 1.1801\n",
      "Epoch: 5/10, Batch: 300/938, Loss: 1.1710\n",
      "Epoch: 5/10, Batch: 400/938, Loss: 1.1924\n",
      "Epoch: 5/10, Batch: 500/938, Loss: 1.1512\n",
      "Epoch: 5/10, Batch: 600/938, Loss: 1.1612\n",
      "Epoch: 5/10, Batch: 700/938, Loss: 1.1492\n",
      "Epoch: 5/10, Batch: 800/938, Loss: 1.1589\n",
      "Epoch: 5/10, Batch: 900/938, Loss: 1.1825\n",
      "Epoch: 5/10\n",
      "Training Loss: 0.0716\n",
      "Test Loss: 0.0778\n",
      "Test Accuracy: 98.10%\n",
      "----------------------------------------\n",
      "Epoch: 6/10, Batch: 100/938, Loss: 1.1450\n",
      "Epoch: 6/10, Batch: 200/938, Loss: 1.1625\n",
      "Epoch: 6/10, Batch: 300/938, Loss: 1.1882\n",
      "Epoch: 6/10, Batch: 400/938, Loss: 1.1815\n",
      "Epoch: 6/10, Batch: 500/938, Loss: 1.1599\n",
      "Epoch: 6/10, Batch: 600/938, Loss: 1.1622\n",
      "Epoch: 6/10, Batch: 700/938, Loss: 1.1812\n",
      "Epoch: 6/10, Batch: 800/938, Loss: 1.1635\n",
      "Epoch: 6/10, Batch: 900/938, Loss: 1.1909\n",
      "Epoch: 6/10\n",
      "Training Loss: 0.0677\n",
      "Test Loss: 0.0798\n",
      "Test Accuracy: 98.28%\n",
      "----------------------------------------\n",
      "Epoch: 7/10, Batch: 100/938, Loss: 1.1810\n",
      "Epoch: 7/10, Batch: 200/938, Loss: 1.1351\n",
      "Epoch: 7/10, Batch: 300/938, Loss: 1.1655\n",
      "Epoch: 7/10, Batch: 400/938, Loss: 1.1960\n",
      "Epoch: 7/10, Batch: 500/938, Loss: 1.1681\n",
      "Epoch: 7/10, Batch: 600/938, Loss: 1.1720\n",
      "Epoch: 7/10, Batch: 700/938, Loss: 1.1792\n",
      "Epoch: 7/10, Batch: 800/938, Loss: 1.1917\n",
      "Epoch: 7/10, Batch: 900/938, Loss: 1.1778\n",
      "Epoch: 7/10\n",
      "Training Loss: 0.0421\n",
      "Test Loss: 0.0552\n",
      "Test Accuracy: 98.77%\n",
      "----------------------------------------\n",
      "Epoch: 8/10, Batch: 100/938, Loss: 1.1631\n",
      "Epoch: 8/10, Batch: 200/938, Loss: 1.1538\n",
      "Epoch: 8/10, Batch: 300/938, Loss: 1.1688\n",
      "Epoch: 8/10, Batch: 400/938, Loss: 1.1839\n",
      "Epoch: 8/10, Batch: 500/938, Loss: 1.1661\n",
      "Epoch: 8/10, Batch: 600/938, Loss: 1.1817\n",
      "Epoch: 8/10, Batch: 700/938, Loss: 1.1923\n",
      "Epoch: 8/10, Batch: 800/938, Loss: 1.1702\n",
      "Epoch: 8/10, Batch: 900/938, Loss: 1.1883\n",
      "Epoch: 8/10\n",
      "Training Loss: 0.0459\n",
      "Test Loss: 0.0614\n",
      "Test Accuracy: 98.71%\n",
      "----------------------------------------\n",
      "Epoch: 9/10, Batch: 100/938, Loss: 1.1521\n",
      "Epoch: 9/10, Batch: 200/938, Loss: 1.1840\n",
      "Epoch: 9/10, Batch: 300/938, Loss: 1.1498\n",
      "Epoch: 9/10, Batch: 400/938, Loss: 1.1912\n",
      "Epoch: 9/10, Batch: 500/938, Loss: 1.1446\n",
      "Epoch: 9/10, Batch: 600/938, Loss: 1.1807\n",
      "Epoch: 9/10, Batch: 700/938, Loss: 1.1430\n",
      "Epoch: 9/10, Batch: 800/938, Loss: 1.1665\n",
      "Epoch: 9/10, Batch: 900/938, Loss: 1.1661\n",
      "Epoch: 9/10\n",
      "Training Loss: 0.0366\n",
      "Test Loss: 0.0521\n",
      "Test Accuracy: 98.72%\n",
      "----------------------------------------\n",
      "Epoch: 10/10, Batch: 100/938, Loss: 1.1600\n",
      "Epoch: 10/10, Batch: 200/938, Loss: 1.1794\n",
      "Epoch: 10/10, Batch: 300/938, Loss: 1.1721\n",
      "Epoch: 10/10, Batch: 400/938, Loss: 1.1617\n",
      "Epoch: 10/10, Batch: 500/938, Loss: 1.1507\n",
      "Epoch: 10/10, Batch: 600/938, Loss: 1.1843\n",
      "Epoch: 10/10, Batch: 700/938, Loss: 1.1598\n",
      "Epoch: 10/10, Batch: 800/938, Loss: 1.1493\n",
      "Epoch: 10/10, Batch: 900/938, Loss: 1.1559\n",
      "Epoch: 10/10\n",
      "Training Loss: 0.0431\n",
      "Test Loss: 0.0585\n",
      "Test Accuracy: 98.62%\n",
      "----------------------------------------\n"
     ]
    }
   ],
   "source": [
    "# Training parameters\n",
    "num_epochs = 10\n",
    "train_losses = []\n",
    "test_losses = []\n",
    "test_accuracies = []\n",
    "\n",
    "# Training loop\n",
    "for epoch in range(num_epochs):\n",
    "    model.train()  # Set model to training mode\n",
    "    running_loss = 0.0\n",
    "    \n",
    "    for batch_idx, (data, target) in enumerate(train_loader):\n",
    "        # Move data to device\n",
    "        data, target = data.to(device), target.to(device)\n",
    "        \n",
    "        # Zero the parameter gradients\n",
    "        optimizer.zero_grad()\n",
    "        \n",
    "        # Forward pass\n",
    "        output = model(data)\n",
    "        loss = criterion(output, target)\n",
    "        \n",
    "        # Backward pass and optimize\n",
    "        loss.backward()\n",
    "        optimizer.step()\n",
    "        \n",
    "        # Track the loss\n",
    "        running_loss += loss.item()\n",
    "        \n",
    "        # Print statistics every 100 batches\n",
    "        if batch_idx % 100 == 99:\n",
    "            print(f'Epoch: {epoch+1}/{num_epochs}, Batch: {batch_idx+1}/{len(train_loader)}, Loss: {running_loss/100:.4f}')\n",
    "            running_loss = 0.0\n",
    "    \n",
    "    # Calculate average training loss for the epoch\n",
    "    model.eval()  # Set model to evaluation mode\n",
    "    epoch_loss = 0.0\n",
    "    with torch.no_grad():\n",
    "        for data, target in train_loader:\n",
    "            data, target = data.to(device), target.to(device)\n",
    "            output = model(data)\n",
    "            loss = criterion(output, target)\n",
    "            epoch_loss += loss.item()\n",
    "    \n",
    "    avg_train_loss = epoch_loss / len(train_loader)\n",
    "    train_losses.append(avg_train_loss)\n",
    "    \n",
    "    # Evaluate on test set\n",
    "    model.eval()\n",
    "    test_loss = 0\n",
    "    correct = 0\n",
    "    with torch.no_grad():\n",
    "        for data, target in test_loader:\n",
    "            data, target = data.to(device), target.to(device)\n",
    "            output = model(data)\n",
    "            test_loss += criterion(output, target).item()\n",
    "            pred = output.argmax(dim=1, keepdim=True)\n",
    "            correct += pred.eq(target.view_as(pred)).sum().item()\n",
    "    \n",
    "    test_loss /= len(test_loader)\n",
    "    test_losses.append(test_loss)\n",
    "    \n",
    "    accuracy = 100. * correct / len(test_dataset)\n",
    "    test_accuracies.append(accuracy)\n",
    "    \n",
    "    print(f'Epoch: {epoch+1}/{num_epochs}')\n",
    "    print(f'Training Loss: {avg_train_loss:.4f}')\n",
    "    print(f'Test Loss: {test_loss:.4f}')\n",
    "    print(f'Test Accuracy: {accuracy:.2f}%')\n",
    "    print('-' * 40)"
   ]
  },
  {
   "cell_type": "markdown",
   "metadata": {},
   "source": [
    "Plot the training loss (and validation loss/accuracy, if recorded)."
   ]
  },
  {
   "cell_type": "code",
   "execution_count": 17,
   "metadata": {},
   "outputs": [
    {
     "data": {
      "image/png": "[encoded data removed]",
      "text/plain": [
       "<Figure size 864x360 with 2 Axes>"
      ]
     },
     "metadata": {
      "needs_background": "light"
     },
     "output_type": "display_data"
    }
   ],
   "source": [
    "# Plot training and test loss\n",
    "plt.figure(figsize=(12, 5))\n",
    "\n",
    "plt.subplot(1, 2, 1)\n",
    "plt.plot(range(1, num_epochs+1), train_losses, label='Training Loss')\n",
    "plt.plot(range(1, num_epochs+1), test_losses, label='Test Loss')\n",
    "plt.xlabel('Epoch')\n",
    "plt.ylabel('Loss')\n",
    "plt.title('Training and Test Loss')\n",
    "plt.legend()\n",
    "\n",
    "plt.subplot(1, 2, 2)\n",
    "plt.plot(range(1, num_epochs+1), test_accuracies)\n",
    "plt.xlabel('Epoch')\n",
    "plt.ylabel('Accuracy (%)')\n",
    "plt.title('Test Accuracy')\n",
    "\n",
    "plt.tight_layout()\n",
    "plt.show()"
   ]
  },
  {
   "cell_type": "markdown",
   "metadata": {},
   "source": [
    "## Testing your model\n",
    "Using the previously created `DataLoader` for the test set, compute the percentage of correct predictions using the highest probability prediction. \n",
    "\n",
    "If your accuracy is over 90%, great work, but see if you can push a bit further! \n",
    "If your accuracy is under 90%, you'll need to make improvements.\n",
    "Go back and check your model architecture, loss function, and optimizer to make sure they're appropriate for an image classification task."
   ]
  },
  {
   "cell_type": "code",
   "execution_count": 18,
   "metadata": {},
   "outputs": [
    {
     "name": "stdout",
     "output_type": "stream",
     "text": [
      "Test Loss: 0.0585\n",
      "Test Accuracy: 98.62%\n"
     ]
    },
    {
     "data": {
      "image/png": "[encoded data removed]",
      "text/plain": [
       "<Figure size 720x576 with 2 Axes>"
      ]
     },
     "metadata": {
      "needs_background": "light"
     },
     "output_type": "display_data"
    },
    {
     "data": {
      "image/png": "[encoded data removed]",
      "text/plain": [
       "<Figure size 1080x432 with 10 Axes>"
      ]
     },
     "metadata": {
      "needs_background": "light"
     },
     "output_type": "display_data"
    }
   ],
   "source": [
    "# Test the model\n",
    "model.eval()\n",
    "test_loss = 0\n",
    "correct = 0\n",
    "with torch.no_grad():\n",
    "    for data, target in test_loader:\n",
    "        data, target = data.to(device), target.to(device)\n",
    "        output = model(data)\n",
    "        test_loss += criterion(output, target).item()\n",
    "        pred = output.argmax(dim=1, keepdim=True)\n",
    "        correct += pred.eq(target.view_as(pred)).sum().item()\n",
    "\n",
    "test_loss /= len(test_loader)\n",
    "accuracy = 100. * correct / len(test_dataset)\n",
    "\n",
    "print(f'Test Loss: {test_loss:.4f}')\n",
    "print(f'Test Accuracy: {accuracy:.2f}%')\n",
    "\n",
    "# Create a confusion matrix\n",
    "confusion_matrix = torch.zeros(10, 10, dtype=torch.int)\n",
    "with torch.no_grad():\n",
    "    for data, target in test_loader:\n",
    "        data, target = data.to(device), target.to(device)\n",
    "        output = model(data)\n",
    "        pred = output.argmax(dim=1)\n",
    "        for t, p in zip(target.view(-1), pred.view(-1)):\n",
    "            confusion_matrix[t.long(), p.long()] += 1\n",
    "\n",
    "# Plot confusion matrix\n",
    "plt.figure(figsize=(10, 8))\n",
    "plt.imshow(confusion_matrix, cmap='Blues')\n",
    "plt.colorbar()\n",
    "plt.xlabel('Predicted')\n",
    "plt.ylabel('True')\n",
    "plt.title('Confusion Matrix')\n",
    "plt.xticks(range(10))\n",
    "plt.yticks(range(10))\n",
    "\n",
    "# Add text annotations\n",
    "for i in range(10):\n",
    "    for j in range(10):\n",
    "        plt.text(j, i, confusion_matrix[i, j].item(), \n",
    "                 ha=\"center\", va=\"center\", \n",
    "                 color=\"white\" if confusion_matrix[i, j] > confusion_matrix.max() / 2 else \"black\")\n",
    "\n",
    "plt.tight_layout()\n",
    "plt.show()\n",
    "\n",
    "# Display some misclassified examples\n",
    "model.eval()\n",
    "misclassified_images = []\n",
    "misclassified_labels = []\n",
    "misclassified_preds = []\n",
    "\n",
    "with torch.no_grad():\n",
    "    for data, target in test_loader:\n",
    "        data, target = data.to(device), target.to(device)\n",
    "        output = model(data)\n",
    "        pred = output.argmax(dim=1)\n",
    "        \n",
    "        # Find indices where predictions are wrong\n",
    "        incorrect_mask = pred.ne(target)\n",
    "        if incorrect_mask.any():\n",
    "            misclassified_indices = incorrect_mask.nonzero(as_tuple=True)[0]\n",
    "            for idx in misclassified_indices[:5]:  # Get up to 5 misclassified examples\n",
    "                if len(misclassified_images) < 10:  # Limit to 10 examples total\n",
    "                    misclassified_images.append(data[idx].cpu())\n",
    "                    misclassified_labels.append(target[idx].item())\n",
    "                    misclassified_preds.append(pred[idx].item())\n",
    "\n",
    "# Display misclassified examples\n",
    "if misclassified_images:\n",
    "    fig, axes = plt.subplots(2, 5, figsize=(15, 6))\n",
    "    axes = axes.flatten()\n",
    "    \n",
    "    for i, (img, true_label, pred_label) in enumerate(zip(misclassified_images, misclassified_labels, misclassified_preds)):\n",
    "        if i < 10:\n",
    "            axes[i].imshow(img.squeeze(), cmap='gray')\n",
    "            axes[i].set_title(f'True: {true_label}, Pred: {pred_label}')\n",
    "            axes[i].axis('off')\n",
    "    \n",
    "    plt.tight_layout()\n",
    "    plt.show()"
   ]
  },
  {
   "cell_type": "markdown",
   "metadata": {},
   "source": [
    "## Improving your model\n",
    "\n",
    "Once your model is done training, try tweaking your hyperparameters and training again below to improve your accuracy on the test set!"
   ]
  },
  {
   "cell_type": "code",
   "execution_count": null,
   "metadata": {},
   "outputs": [
    {
     "name": "stdout",
     "output_type": "stream",
     "text": [
      "Using device: cuda\n",
      "Epoch: 1/15, Batch: 100/938, Loss: 0.7656\n",
      "Epoch: 1/15, Batch: 200/938, Loss: 0.2424\n",
      "Epoch: 1/15, Batch: 300/938, Loss: 0.1645\n",
      "Epoch: 1/15, Batch: 400/938, Loss: 0.1498\n",
      "Epoch: 1/15, Batch: 500/938, Loss: 0.1404\n",
      "Epoch: 1/15, Batch: 600/938, Loss: 0.1401\n",
      "Epoch: 1/15, Batch: 700/938, Loss: 0.1368\n",
      "Epoch: 1/15, Batch: 800/938, Loss: 0.1222\n",
      "Epoch: 1/15, Batch: 900/938, Loss: 0.1037\n",
      "Epoch: 1/15\n",
      "Training Loss: 0.0435\n",
      "Test Loss: 0.0349\n",
      "Test Accuracy: 98.73%\n",
      "----------------------------------------\n",
      "Epoch: 2/15, Batch: 100/938, Loss: 0.1032\n",
      "Epoch: 2/15, Batch: 200/938, Loss: 0.0918\n",
      "Epoch: 2/15, Batch: 300/938, Loss: 0.0910\n",
      "Epoch: 2/15, Batch: 400/938, Loss: 0.1058\n",
      "Epoch: 2/15, Batch: 500/938, Loss: 0.0816\n",
      "Epoch: 2/15, Batch: 600/938, Loss: 0.0812\n",
      "Epoch: 2/15, Batch: 700/938, Loss: 0.1028\n",
      "Epoch: 2/15, Batch: 800/938, Loss: 0.0830\n",
      "Epoch: 2/15, Batch: 900/938, Loss: 0.0806\n",
      "Epoch: 2/15\n",
      "Training Loss: 0.0406\n",
      "Test Loss: 0.0379\n",
      "Test Accuracy: 98.72%\n",
      "----------------------------------------\n",
      "Epoch: 3/15, Batch: 100/938, Loss: 0.0832\n",
      "Epoch: 3/15, Batch: 200/938, Loss: 0.0709\n",
      "Epoch: 3/15, Batch: 300/938, Loss: 0.0796\n",
      "Epoch: 3/15, Batch: 400/938, Loss: 0.0737\n",
      "Epoch: 3/15, Batch: 500/938, Loss: 0.0709\n",
      "Epoch: 3/15, Batch: 600/938, Loss: 0.0699\n",
      "Epoch: 3/15, Batch: 700/938, Loss: 0.0739\n",
      "Epoch: 3/15, Batch: 800/938, Loss: 0.0616\n",
      "Epoch: 3/15, Batch: 900/938, Loss: 0.0701\n",
      "Epoch: 3/15\n",
      "Training Loss: 0.0290\n",
      "Test Loss: 0.0265\n",
      "Test Accuracy: 99.10%\n",
      "----------------------------------------\n",
      "Epoch: 4/15, Batch: 100/938, Loss: 0.0631\n",
      "Epoch: 4/15, Batch: 200/938, Loss: 0.0660\n",
      "Epoch: 4/15, Batch: 300/938, Loss: 0.0602\n",
      "Epoch: 4/15, Batch: 400/938, Loss: 0.0696\n",
      "Epoch: 4/15, Batch: 500/938, Loss: 0.0630\n",
      "Epoch: 4/15, Batch: 600/938, Loss: 0.0687\n",
      "Epoch: 4/15, Batch: 700/938, Loss: 0.0607\n",
      "Epoch: 4/15, Batch: 800/938, Loss: 0.0540\n",
      "Epoch: 4/15, Batch: 900/938, Loss: 0.0678\n",
      "Epoch: 4/15\n",
      "Training Loss: 0.0222\n",
      "Test Loss: 0.0259\n",
      "Test Accuracy: 99.23%\n",
      "----------------------------------------\n",
      "Epoch: 5/15, Batch: 100/938, Loss: 0.0499\n",
      "Epoch: 5/15, Batch: 200/938, Loss: 0.0602\n",
      "Epoch: 5/15, Batch: 300/938, Loss: 0.0597\n",
      "Epoch: 5/15, Batch: 400/938, Loss: 0.0452\n",
      "Epoch: 5/15, Batch: 500/938, Loss: 0.0527\n",
      "Epoch: 5/15, Batch: 600/938, Loss: 0.0605\n",
      "Epoch: 5/15, Batch: 700/938, Loss: 0.0514\n",
      "Epoch: 5/15, Batch: 800/938, Loss: 0.0617\n",
      "Epoch: 5/15, Batch: 900/938, Loss: 0.0513\n",
      "Epoch: 5/15\n",
      "Training Loss: 0.0211\n",
      "Test Loss: 0.0235\n",
      "Test Accuracy: 99.25%\n",
      "----------------------------------------\n",
      "Epoch: 6/15, Batch: 100/938, Loss: 0.0462\n",
      "Epoch: 6/15, Batch: 200/938, Loss: 0.0485\n",
      "Epoch: 6/15, Batch: 300/938, Loss: 0.0485\n",
      "Epoch: 6/15, Batch: 400/938, Loss: 0.0549\n",
      "Epoch: 6/15, Batch: 500/938, Loss: 0.0529\n",
      "Epoch: 6/15, Batch: 600/938, Loss: 0.0528\n",
      "Epoch: 6/15, Batch: 700/938, Loss: 0.0448\n",
      "Epoch: 6/15, Batch: 800/938, Loss: 0.0470\n",
      "Epoch: 6/15, Batch: 900/938, Loss: 0.0505\n",
      "Epoch: 6/15\n",
      "Training Loss: 0.0163\n",
      "Test Loss: 0.0225\n",
      "Test Accuracy: 99.32%\n",
      "----------------------------------------\n",
      "Epoch: 7/15, Batch: 100/938, Loss: 0.0426\n",
      "Epoch: 7/15, Batch: 200/938, Loss: 0.0384\n",
      "Epoch: 7/15, Batch: 300/938, Loss: 0.0448\n",
      "Epoch: 7/15, Batch: 400/938, Loss: 0.0485\n",
      "Epoch: 7/15, Batch: 500/938, Loss: 0.0355\n",
      "Epoch: 7/15, Batch: 600/938, Loss: 0.0472\n",
      "Epoch: 7/15, Batch: 700/938, Loss: 0.0382\n",
      "Epoch: 7/15, Batch: 800/938, Loss: 0.0475\n",
      "Epoch: 7/15, Batch: 900/938, Loss: 0.0387\n",
      "Epoch: 7/15\n",
      "Training Loss: 0.0158\n",
      "Test Loss: 0.0200\n",
      "Test Accuracy: 99.33%\n",
      "----------------------------------------\n",
      "Epoch: 8/15, Batch: 100/938, Loss: 0.0349\n",
      "Epoch: 8/15, Batch: 200/938, Loss: 0.0394\n",
      "Epoch: 8/15, Batch: 300/938, Loss: 0.0429\n",
      "Epoch: 8/15, Batch: 400/938, Loss: 0.0392\n",
      "Epoch: 8/15, Batch: 500/938, Loss: 0.0465\n",
      "Epoch: 8/15, Batch: 600/938, Loss: 0.0347\n",
      "Epoch: 8/15, Batch: 700/938, Loss: 0.0471\n",
      "Epoch: 8/15, Batch: 800/938, Loss: 0.0454\n",
      "Epoch: 8/15, Batch: 900/938, Loss: 0.0360\n",
      "Epoch: 8/15\n",
      "Training Loss: 0.0128\n",
      "Test Loss: 0.0189\n",
      "Test Accuracy: 99.47%\n",
      "----------------------------------------\n",
      "Epoch: 9/15, Batch: 100/938, Loss: 0.0348\n",
      "Epoch: 9/15, Batch: 200/938, Loss: 0.0429\n",
      "Epoch: 9/15, Batch: 300/938, Loss: 0.0497\n",
      "Epoch: 9/15, Batch: 400/938, Loss: 0.0327\n",
      "Epoch: 9/15, Batch: 500/938, Loss: 0.0410\n",
      "Epoch: 9/15, Batch: 600/938, Loss: 0.0379\n",
      "Epoch: 9/15, Batch: 700/938, Loss: 0.0423\n",
      "Epoch: 9/15, Batch: 800/938, Loss: 0.0434\n",
      "Epoch: 9/15, Batch: 900/938, Loss: 0.0386\n",
      "Epoch: 9/15\n",
      "Training Loss: 0.0115\n",
      "Test Loss: 0.0214\n",
      "Test Accuracy: 99.31%\n",
      "----------------------------------------\n",
      "Epoch: 10/15, Batch: 100/938, Loss: 0.0322\n",
      "Epoch: 10/15, Batch: 200/938, Loss: 0.0376\n",
      "Epoch: 10/15, Batch: 300/938, Loss: 0.0379\n",
      "Epoch: 10/15, Batch: 400/938, Loss: 0.0272\n",
      "Epoch: 10/15, Batch: 500/938, Loss: 0.0351\n",
      "Epoch: 10/15, Batch: 600/938, Loss: 0.0368\n",
      "Epoch: 10/15, Batch: 700/938, Loss: 0.0317\n",
      "Epoch: 10/15, Batch: 800/938, Loss: 0.0308\n",
      "Epoch: 10/15, Batch: 900/938, Loss: 0.0408\n",
      "Epoch: 10/15\n",
      "Training Loss: 0.0103\n",
      "Test Loss: 0.0190\n",
      "Test Accuracy: 99.34%\n",
      "----------------------------------------\n",
      "Epoch: 11/15, Batch: 100/938, Loss: 0.0310\n",
      "Epoch: 11/15, Batch: 200/938, Loss: 0.0287\n",
      "Epoch: 11/15, Batch: 300/938, Loss: 0.0302\n",
      "Epoch: 11/15, Batch: 400/938, Loss: 0.0352\n",
      "Epoch: 11/15, Batch: 500/938, Loss: 0.0301\n",
      "Epoch: 11/15, Batch: 600/938, Loss: 0.0375\n",
      "Epoch: 11/15, Batch: 700/938, Loss: 0.0386\n",
      "Epoch: 11/15, Batch: 800/938, Loss: 0.0287\n",
      "Epoch: 11/15, Batch: 900/938, Loss: 0.0263\n",
      "Epoch 00011: reducing learning rate of group 0 to 5.0000e-04.\n",
      "Epoch: 11/15\n",
      "Training Loss: 0.0111\n",
      "Test Loss: 0.0213\n",
      "Test Accuracy: 99.30%\n",
      "----------------------------------------\n",
      "Epoch: 12/15, Batch: 100/938, Loss: 0.0271\n",
      "Epoch: 12/15, Batch: 200/938, Loss: 0.0233\n",
      "Epoch: 12/15, Batch: 300/938, Loss: 0.0226\n",
      "Epoch: 12/15, Batch: 400/938, Loss: 0.0205\n",
      "Epoch: 12/15, Batch: 500/938, Loss: 0.0271\n",
      "Epoch: 12/15, Batch: 600/938, Loss: 0.0191\n",
      "Epoch: 12/15, Batch: 700/938, Loss: 0.0200\n",
      "Epoch: 12/15, Batch: 800/938, Loss: 0.0167\n",
      "Epoch: 12/15, Batch: 900/938, Loss: 0.0182\n",
      "Epoch: 12/15\n",
      "Training Loss: 0.0056\n",
      "Test Loss: 0.0170\n",
      "Test Accuracy: 99.51%\n",
      "----------------------------------------\n",
      "Epoch: 13/15, Batch: 100/938, Loss: 0.0160\n",
      "Epoch: 13/15, Batch: 200/938, Loss: 0.0180\n",
      "Epoch: 13/15, Batch: 300/938, Loss: 0.0179\n",
      "Epoch: 13/15, Batch: 400/938, Loss: 0.0258\n",
      "Epoch: 13/15, Batch: 500/938, Loss: 0.0232\n",
      "Epoch: 13/15, Batch: 600/938, Loss: 0.0221\n",
      "Epoch: 13/15, Batch: 700/938, Loss: 0.0192\n",
      "Epoch: 13/15, Batch: 800/938, Loss: 0.0151\n",
      "Epoch: 13/15, Batch: 900/938, Loss: 0.0207\n",
      "Epoch: 13/15\n",
      "Training Loss: 0.0052\n",
      "Test Loss: 0.0166\n",
      "Test Accuracy: 99.49%\n",
      "----------------------------------------\n",
      "Epoch: 14/15, Batch: 100/938, Loss: 0.0200\n",
      "Epoch: 14/15, Batch: 200/938, Loss: 0.0126\n",
      "Epoch: 14/15, Batch: 300/938, Loss: 0.0173\n",
      "Epoch: 14/15, Batch: 400/938, Loss: 0.0232\n",
      "Epoch: 14/15, Batch: 500/938, Loss: 0.0169\n",
      "Epoch: 14/15, Batch: 600/938, Loss: 0.0183\n",
      "Epoch: 14/15, Batch: 700/938, Loss: 0.0245\n",
      "Epoch: 14/15, Batch: 800/938, Loss: 0.0159\n",
      "Epoch: 14/15, Batch: 900/938, Loss: 0.0151\n"
     ]
    }
   ],
   "source": [
    "# Define an improved model with more capacity\n",
    "class ImprovedMNISTNet(nn.Module):\n",
    "    def __init__(self):\n",
    "        super(ImprovedMNISTNet, self).__init__()\n",
    "        # First convolutional block\n",
    "        self.conv1 = nn.Conv2d(1, 32, kernel_size=3, padding=1)\n",
    "        self.bn1 = nn.BatchNorm2d(32)\n",
    "        self.conv2 = nn.Conv2d(32, 32, kernel_size=3, padding=1)\n",
    "        self.bn2 = nn.BatchNorm2d(32)\n",
    "        self.pool1 = nn.MaxPool2d(kernel_size=2)\n",
    "        self.dropout1 = nn.Dropout2d(0.2)\n",
    "        \n",
    "        # Second convolutional block\n",
    "        self.conv3 = nn.Conv2d(32, 64, kernel_size=3, padding=1)\n",
    "        self.bn3 = nn.BatchNorm2d(64)\n",
    "        self.conv4 = nn.Conv2d(64, 64, kernel_size=3, padding=1)\n",
    "        self.bn4 = nn.BatchNorm2d(64)\n",
    "        self.pool2 = nn.MaxPool2d(kernel_size=2)\n",
    "        self.dropout2 = nn.Dropout2d(0.3)\n",
    "        \n",
    "        # Fully connected layers\n",
    "        # MNIST is 28x28, after two pooling layers (28/2/2 = 7x7)\n",
    "        self.fc1 = nn.Linear(64 * 7 * 7, 128)\n",
    "        self.dropout3 = nn.Dropout(0.4)\n",
    "        self.fc2 = nn.Linear(128, 10)\n",
    "\n",
    "    def forward(self, x):\n",
    "        # First block\n",
    "        x = self.conv1(x)\n",
    "        x = self.bn1(x)\n",
    "        x = F.relu(x)\n",
    "        x = self.conv2(x)\n",
    "        x = self.bn2(x)\n",
    "        x = F.relu(x)\n",
    "        x = self.pool1(x)\n",
    "        x = self.dropout1(x)\n",
    "        \n",
    "        # Second block\n",
    "        x = self.conv3(x)\n",
    "        x = self.bn3(x)\n",
    "        x = F.relu(x)\n",
    "        x = self.conv4(x)\n",
    "        x = self.bn4(x)\n",
    "        x = F.relu(x)\n",
    "        x = self.pool2(x)\n",
    "        x = self.dropout2(x)\n",
    "        \n",
    "        # Flatten for fully connected layers\n",
    "        x = torch.flatten(x, 1)\n",
    "        \n",
    "        # Fully connected part\n",
    "        x = self.fc1(x)\n",
    "        x = F.relu(x)\n",
    "        x = self.dropout3(x)\n",
    "        x = self.fc2(x)\n",
    "        \n",
    "        return F.log_softmax(x, dim=1)\n",
    "\n",
    "# Check if CUDA is available and set the device accordingly\n",
    "device = torch.device(\"cuda\" if torch.cuda.is_available() else \"cpu\")\n",
    "print(f\"Using device: {device}\")\n",
    "\n",
    "# Instantiate the improved model and move it to the correct device\n",
    "improved_model = ImprovedMNISTNet().to(device)\n",
    "\n",
    "# Define loss function (already defined earlier)\n",
    "# criterion = nn.NLLLoss()  # Uncomment if not already defined\n",
    "\n",
    "# Define optimizer with learning rate scheduler\n",
    "improved_optimizer = optim.Adam(improved_model.parameters(), lr=0.001, weight_decay=1e-5)\n",
    "scheduler = optim.lr_scheduler.ReduceLROnPlateau(improved_optimizer, 'min', patience=2, factor=0.5, verbose=True)\n",
    "\n",
    "# Training parameters\n",
    "num_epochs = 15\n",
    "improved_train_losses = []\n",
    "improved_test_losses = []\n",
    "improved_test_accuracies = []\n",
    "\n",
    "# Training loop\n",
    "for epoch in range(num_epochs):\n",
    "    improved_model.train()  # Set model to training mode\n",
    "    running_loss = 0.0\n",
    "    \n",
    "    for batch_idx, (data, target) in enumerate(train_loader):\n",
    "        # Move data to device\n",
    "        data, target = data.to(device), target.to(device)\n",
    "        \n",
    "        # Zero the parameter gradients\n",
    "        improved_optimizer.zero_grad()\n",
    "        \n",
    "        # Forward pass\n",
    "        output = improved_model(data)\n",
    "        loss = criterion(output, target)\n",
    "        \n",
    "        # Backward pass and optimize\n",
    "        loss.backward()\n",
    "        improved_optimizer.step()\n",
    "        \n",
    "        # Track the loss\n",
    "        running_loss += loss.item()\n",
    "        \n",
    "        # Print statistics every 100 batches\n",
    "        if batch_idx % 100 == 99:\n",
    "            print(f'Epoch: {epoch+1}/{num_epochs}, Batch: {batch_idx+1}/{len(train_loader)}, Loss: {running_loss/100:.4f}')\n",
    "            running_loss = 0.0\n",
    "    \n",
    "    # Calculate average training loss for the epoch\n",
    "    improved_model.eval()  # Set model to evaluation mode\n",
    "    epoch_loss = 0.0\n",
    "    with torch.no_grad():\n",
    "        for data, target in train_loader:\n",
    "            data, target = data.to(device), target.to(device)\n",
    "            output = improved_model(data)\n",
    "            loss = criterion(output, target)\n",
    "            epoch_loss += loss.item()\n",
    "    \n",
    "    avg_train_loss = epoch_loss / len(train_loader)\n",
    "    improved_train_losses.append(avg_train_loss)\n",
    "    \n",
    "    # Evaluate on test set\n",
    "    improved_model.eval()\n",
    "    test_loss = 0\n",
    "    correct = 0\n",
    "    with torch.no_grad():\n",
    "        for data, target in test_loader:\n",
    "            data, target = data.to(device), target.to(device)\n",
    "            output = improved_model(data)\n",
    "            test_loss += criterion(output, target).item()\n",
    "            pred = output.argmax(dim=1, keepdim=True)\n",
    "            correct += pred.eq(target.view_as(pred)).sum().item()\n",
    "    \n",
    "    test_loss /= len(test_loader)\n",
    "    improved_test_losses.append(test_loss)\n",
    "    \n",
    "    # Update learning rate scheduler\n",
    "    scheduler.step(test_loss)\n",
    "    \n",
    "    accuracy = 100. * correct / len(test_dataset)\n",
    "    improved_test_accuracies.append(accuracy)\n",
    "    \n",
    "    print(f'Epoch: {epoch+1}/{num_epochs}')\n",
    "    print(f'Training Loss: {avg_train_loss:.4f}')\n",
    "    print(f'Test Loss: {test_loss:.4f}')\n",
    "    print(f'Test Accuracy: {accuracy:.2f}%')\n",
    "    print('-' * 40)\n",
    "\n",
    "# Plot training and test loss for improved model\n",
    "plt.figure(figsize=(12, 5))\n",
    "\n",
    "plt.subplot(1, 2, 1)\n",
    "plt.plot(range(1, num_epochs+1), improved_train_losses, label='Training Loss')\n",
    "plt.plot(range(1, num_epochs+1), improved_test_losses, label='Test Loss')\n",
    "plt.xlabel('Epoch')\n",
    "plt.ylabel('Loss')\n",
    "plt.title('Improved Model: Training and Test Loss')\n",
    "plt.legend()\n",
    "\n",
    "plt.subplot(1, 2, 2)\n",
    "plt.plot(range(1, num_epochs+1), improved_test_accuracies)\n",
    "plt.xlabel('Epoch')\n",
    "plt.ylabel('Accuracy (%)')\n",
    "plt.title('Improved Model: Test Accuracy')\n",
    "\n",
    "plt.tight_layout()\n",
    "plt.show()\n",
    "\n",
    "# Final test for improved model\n",
    "improved_model.eval()\n",
    "test_loss = 0\n",
    "correct = 0\n",
    "with torch.no_grad():\n",
    "    for data, target in test_loader:\n",
    "        data, target = data.to(device), target.to(device)\n",
    "        output = improved_model(data)\n",
    "        test_loss += criterion(output, target).item()\n",
    "        pred = output.argmax(dim=1, keepdim=True)\n",
    "        correct += pred.eq(target.view_as(pred)).sum().item()\n",
    "\n",
    "test_loss /= len(test_loader)\n",
    "accuracy = 100. * correct / len(test_dataset)\n",
    "\n",
    "print(f'Final Improved Model Test Loss: {test_loss:.4f}')\n",
    "print(f'Final Improved Model Test Accuracy: {accuracy:.2f}%')"
   ]
  },
  {
   "cell_type": "markdown",
   "metadata": {},
   "source": [
    "## Saving your model\n",
    "Using `torch.save`, save your model for future loading."
   ]
  },
  {
   "cell_type": "code",
   "execution_count": null,
   "metadata": {},
   "outputs": [],
   "source": [
    "# Save the improved model\n",
    "torch.save(improved_model.state_dict(), 'mnist_improved_model.pth')\n",
    "print(\"Model saved successfully.\")\n",
    "\n",
    "# Save the entire model (including architecture)\n",
    "torch.save(improved_model, 'mnist_improved_model_full.pth')\n",
    "print(\"Full model saved successfully.\")\n",
    "\n",
    "# To load the model later:\n",
    "# Option 1: Load state dict (requires model class definition)\n",
    "# loaded_model = ImprovedMNISTNet()\n",
    "# loaded_model.load_state_dict(torch.load('mnist_improved_model.pth'))\n",
    "\n",
    "# Option 2: Load full model\n",
    "# loaded_model = torch.load('mnist_improved_model_full.pth')"
   ]
  }
 ],
 "metadata": {
  "kernelspec": {
   "display_name": "Python 3",
   "language": "python",
   "name": "python3"
  },
  "language_info": {
   "codemirror_mode": {
    "name": "ipython",
    "version": 3
   },
   "file_extension": ".py",
   "mimetype": "text/x-python",
   "name": "python",
   "nbconvert_exporter": "python",
   "pygments_lexer": "ipython3",
   "version": "3.7.6"
  }
 },
 "nbformat": 4,
 "nbformat_minor": 4
}
